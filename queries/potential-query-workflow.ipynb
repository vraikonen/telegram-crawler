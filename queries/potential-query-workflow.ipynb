{
 "cells": [
  {
   "cell_type": "markdown",
   "id": "b1f724c3",
   "metadata": {},
   "source": [
    "# Potential query workflow\n",
    "\n",
    "This notebook shows examples of Telegram database queries."
   ]
  },
  {
   "cell_type": "markdown",
   "id": "ba121670",
   "metadata": {},
   "source": [
    "### Sentiment analysis of Ukraine-Russia conflict\n",
    "\n",
    "Let's imagine we want to compare the sentiment for the Russia-Ukraine war on 3 samples, each sample corresponding to one week. We have chosen those 3 samples because some important events took place (such as pre-war, begining of the war, important battle etc.)\n",
    "\n",
    "To start, we assume that our initial, input chats were all related to Russia-Ukraine conflict. \n",
    "\n",
    "First, we are going to filter our dataset based on dates, and retrieve specific endpoints that will help us understand our topic even more. Then we are going to save our data "
   ]
  },
  {
   "cell_type": "code",
   "execution_count": 1,
   "id": "12a1cd9b",
   "metadata": {},
   "outputs": [
    {
     "name": "stdout",
     "output_type": "stream",
     "text": [
      "Docuemnts count: 1964128\n",
      "Collection size: 4108442565\n",
      "Average document size: 2091\n",
      "Index size: 78028800\n"
     ]
    }
   ],
   "source": [
    "# Connect to database\n",
    "from pymongo import MongoClient\n",
    "\n",
    "# Connect to MongoDB\n",
    "client = MongoClient(\"mongodb://localhost:27017/\")\n",
    "db = client[\"Telegram-1-crawler\"]\n",
    "\n",
    "# Connect to the collection and see details\n",
    "messages_collection = db[\"messages\"]\n",
    "\n",
    "collection_details = db.command(\"collstats\", \"messages\")\n",
    "print(f\"Docuemnts count: {collection_details['count']}\")\n",
    "print(f\"Collection size: {collection_details['size']}\")\n",
    "print(f\"Average document size: {collection_details['avgObjSize']}\")\n",
    "print(f\"Index size: {collection_details['totalIndexSize']}\")"
   ]
  },
  {
   "cell_type": "code",
   "execution_count": 3,
   "id": "22f98bb6",
   "metadata": {},
   "outputs": [
    {
     "name": "stdout",
     "output_type": "stream",
     "text": [
      "SON([('v', 2), ('key', SON([('_id', 1)])), ('name', '_id_')])\n",
      "SON([('v', 2), ('key', SON([('date', 1)])), ('name', 'date_1')])\n",
      "SON([('v', 2), ('key', SON([('peer_id.channel_id', 1)])), ('name', 'peer_id.channel_id_1')])\n"
     ]
    }
   ],
   "source": [
    "# Let's check indices, to see which fields we can easily query\n",
    "indices = messages_collection.list_indexes()\n",
    "for index in indices:\n",
    "    print(index)"
   ]
  },
  {
   "cell_type": "code",
   "execution_count": 6,
   "id": "d58cd678",
   "metadata": {},
   "outputs": [
    {
     "name": "stdout",
     "output_type": "stream",
     "text": [
      "12581\n",
      "15124\n",
      "10112\n"
     ]
    }
   ],
   "source": [
    "# Looks like we are good! We have indices on the date field, thus we can easily create our queries.\n",
    "# Let's define our dates\n",
    "from datetime import datetime\n",
    "\n",
    "date_start1 = datetime(2021, 12, 15, 0, 0, 0)  # Prewar\n",
    "date_end1 = datetime(2021, 12, 22, 0, 0, 0)\n",
    "\n",
    "date_start2 = datetime(2022, 2, 24, 0, 0, 0)  # Begging of the war\n",
    "date_end2 = datetime(2022, 3, 2, 0, 0, 0)\n",
    "\n",
    "date_start3 = datetime(2023, 6, 8, 0, 0, 0)  # During the war\n",
    "date_end3 = datetime(2023, 6, 15, 0, 0, 0)\n",
    "\n",
    "# Let's count the number of documents\n",
    "count1 = messages_collection.count_documents(\n",
    "    {\"date\": {\"$gte\": date_start1, \"$lte\": date_end1}}\n",
    ")\n",
    "print(count1)\n",
    "count2 = messages_collection.count_documents(\n",
    "    {\"date\": {\"$gte\": date_start2, \"$lte\": date_end2}}\n",
    ")\n",
    "print(count2)\n",
    "count3 = messages_collection.count_documents(\n",
    "    {\"date\": {\"$gte\": date_start3, \"$lte\": date_end3}}\n",
    ")\n",
    "print(count3)"
   ]
  },
  {
   "cell_type": "code",
   "execution_count": 16,
   "id": "8b0ccdfd",
   "metadata": {},
   "outputs": [
    {
     "name": "stdout",
     "output_type": "stream",
     "text": [
      "{'_': 'Message',\n",
      " '_id': ObjectId('65c0fe7f71c2d614315d33b6'),\n",
      " 'date': datetime.datetime(2021, 12, 15, 0, 0, 10),\n",
      " 'edit_date': None,\n",
      " 'edit_hide': False,\n",
      " 'entities': [],\n",
      " 'forwards': 467,\n",
      " 'from_id': {'_': 'PeerChannel', 'channel_id': 1440361410},\n",
      " 'from_scheduled': False,\n",
      " 'fwd_from': {'_': 'MessageFwdHeader',\n",
      "              'channel_post': 1608,\n",
      "              'date': datetime.datetime(2021, 12, 14, 21, 45, 6),\n",
      "              'from_id': {'_': 'PeerChannel', 'channel_id': 1395659502},\n",
      "              'from_name': None,\n",
      "              'imported': False,\n",
      "              'post_author': None,\n",
      "              'psa_type': None,\n",
      "              'saved_from_msg_id': 24393,\n",
      "              'saved_from_peer': {'_': 'PeerChannel',\n",
      "                                  'channel_id': 1440361410}},\n",
      " 'grouped_id': None,\n",
      " 'id': 125645,\n",
      " 'legacy': False,\n",
      " 'media': None,\n",
      " 'media_unread': False,\n",
      " 'mentioned': False,\n",
      " 'message': 'Why does anyone comply!?\\n'\n",
      "            '\\n'\n",
      "            '“…the medical literature for the past forty-five years has been '\n",
      "            'consistent: masks are useless in preventing the spread of disease '\n",
      "            'and, if anything, are unsanitary objects that themselves spread '\n",
      "            'bacteria and viruses.”',\n",
      " 'noforwards': False,\n",
      " 'out': False,\n",
      " 'peer_id': {'_': 'PeerChannel', 'channel_id': 1437926327},\n",
      " 'pinned': True,\n",
      " 'post': False,\n",
      " 'post_author': None,\n",
      " 'reactions': None,\n",
      " 'replies': {'_': 'MessageReplies',\n",
      "             'channel_id': None,\n",
      "             'comments': False,\n",
      "             'max_id': None,\n",
      "             'read_max_id': None,\n",
      "             'recent_repliers': [],\n",
      "             'replies': 0,\n",
      "             'replies_pts': 656661},\n",
      " 'reply_markup': None,\n",
      " 'reply_to': None,\n",
      " 'restriction_reason': [],\n",
      " 'silent': False,\n",
      " 'ttl_period': None,\n",
      " 'via_bot_id': None,\n",
      " 'views': 121167}\n"
     ]
    }
   ],
   "source": [
    "import pprint\n",
    "\n",
    "# Let's define our query\n",
    "query = {\n",
    "    \"$or\": [\n",
    "        {\"date\": {\"$gte\": date_start1, \"$lte\": date_end1}},\n",
    "        {\"date\": {\"$gte\": date_start2, \"$lte\": date_end2}},\n",
    "        {\"date\": {\"$gte\": date_start3, \"$lte\": date_end3}},\n",
    "    ]\n",
    "}\n",
    "\n",
    "\n",
    "# Let's check one message to see its endpoints\n",
    "one_message = messages_collection.find_one(query)\n",
    "pprint.pprint(one_message)"
   ]
  },
  {
   "cell_type": "code",
   "execution_count": 27,
   "id": "ddd2f809",
   "metadata": {},
   "outputs": [
    {
     "name": "stdout",
     "output_type": "stream",
     "text": [
      "38267\n",
      "[   {   '_id': ObjectId('65c0fe7f71c2d614315d33b6'),\n",
      "        'date': datetime.datetime(2021, 12, 15, 0, 0, 10),\n",
      "        'forwards': 467,\n",
      "        'from_id': {'_': 'PeerChannel', 'channel_id': 1440361410},\n",
      "        'message': 'Why does anyone comply!?\\n'\n",
      "                   '\\n'\n",
      "                   '“…the medical literature for the past forty-five years has '\n",
      "                   'been consistent: masks are useless in preventing the '\n",
      "                   'spread of disease and, if anything, are unsanitary objects '\n",
      "                   'that themselves spread bacteria and viruses.”',\n",
      "        'peer_id': {'channel_id': 1437926327}},\n",
      "    {   '_id': ObjectId('65c0b8e8c648e7d6e90bb0c9'),\n",
      "        'date': datetime.datetime(2021, 12, 15, 0, 0, 25),\n",
      "        'forwards': 190,\n",
      "        'from_id': None,\n",
      "        'message': 'GOP Makes Huge Gains on Generic Congressional Ballot',\n",
      "        'peer_id': {'channel_id': 1462338131}}]\n"
     ]
    }
   ],
   "source": [
    "# After thorough examination of our output, we have decided to not keep all of our fields\n",
    "# Be cautios here, some fields have different nested key-value pairs, thus the best option would be to project based on the first key of the nested keys\n",
    "\n",
    "cursor = messages_collection.find(\n",
    "    query, {\"message\", \"date\", \"forwards\", \"from_id\", \"peer_id.channel_id\"}\n",
    ")\n",
    "\n",
    "our_subset = list(cursor)\n",
    "print(len(our_subset))\n",
    "pprint.pprint(our_subset[0:2], indent=4)"
   ]
  },
  {
   "cell_type": "code",
   "execution_count": 30,
   "id": "51408712",
   "metadata": {},
   "outputs": [
    {
     "data": {
      "text/html": [
       "<div>\n",
       "<style scoped>\n",
       "    .dataframe tbody tr th:only-of-type {\n",
       "        vertical-align: middle;\n",
       "    }\n",
       "\n",
       "    .dataframe tbody tr th {\n",
       "        vertical-align: top;\n",
       "    }\n",
       "\n",
       "    .dataframe thead th {\n",
       "        text-align: right;\n",
       "    }\n",
       "</style>\n",
       "<table border=\"1\" class=\"dataframe\">\n",
       "  <thead>\n",
       "    <tr style=\"text-align: right;\">\n",
       "      <th></th>\n",
       "      <th>_id</th>\n",
       "      <th>peer_id</th>\n",
       "      <th>date</th>\n",
       "      <th>message</th>\n",
       "      <th>from_id</th>\n",
       "      <th>forwards</th>\n",
       "    </tr>\n",
       "  </thead>\n",
       "  <tbody>\n",
       "    <tr>\n",
       "      <th>0</th>\n",
       "      <td>65c0fe7f71c2d614315d33b6</td>\n",
       "      <td>{'channel_id': 1437926327}</td>\n",
       "      <td>2021-12-15 00:00:10</td>\n",
       "      <td>Why does anyone comply!?\\n\\n“…the medical lite...</td>\n",
       "      <td>{'_': 'PeerChannel', 'channel_id': 1440361410}</td>\n",
       "      <td>467.0</td>\n",
       "    </tr>\n",
       "    <tr>\n",
       "      <th>1</th>\n",
       "      <td>65c0b8e8c648e7d6e90bb0c9</td>\n",
       "      <td>{'channel_id': 1462338131}</td>\n",
       "      <td>2021-12-15 00:00:25</td>\n",
       "      <td>GOP Makes Huge Gains on Generic Congressional ...</td>\n",
       "      <td>None</td>\n",
       "      <td>190.0</td>\n",
       "    </tr>\n",
       "    <tr>\n",
       "      <th>2</th>\n",
       "      <td>65bbc5468ac0e993045f2109</td>\n",
       "      <td>{'channel_id': 1194730261}</td>\n",
       "      <td>2021-12-15 00:00:55</td>\n",
       "      <td>The good Germans fled to Argentina and America...</td>\n",
       "      <td>None</td>\n",
       "      <td>3.0</td>\n",
       "    </tr>\n",
       "    <tr>\n",
       "      <th>3</th>\n",
       "      <td>65c13e8371c2d614316c0222</td>\n",
       "      <td>{'channel_id': 1425836445}</td>\n",
       "      <td>2021-12-15 00:01:01</td>\n",
       "      <td>https://childrenshealthdefense.org/defender/st...</td>\n",
       "      <td>None</td>\n",
       "      <td>229.0</td>\n",
       "    </tr>\n",
       "    <tr>\n",
       "      <th>4</th>\n",
       "      <td>65bbc5468ac0e993045f2108</td>\n",
       "      <td>{'channel_id': 1194730261}</td>\n",
       "      <td>2021-12-15 00:02:56</td>\n",
       "      <td>Radical Americanism. Just shit and shame on ou...</td>\n",
       "      <td>None</td>\n",
       "      <td>3.0</td>\n",
       "    </tr>\n",
       "  </tbody>\n",
       "</table>\n",
       "</div>"
      ],
      "text/plain": [
       "                        _id                     peer_id                date  \\\n",
       "0  65c0fe7f71c2d614315d33b6  {'channel_id': 1437926327} 2021-12-15 00:00:10   \n",
       "1  65c0b8e8c648e7d6e90bb0c9  {'channel_id': 1462338131} 2021-12-15 00:00:25   \n",
       "2  65bbc5468ac0e993045f2109  {'channel_id': 1194730261} 2021-12-15 00:00:55   \n",
       "3  65c13e8371c2d614316c0222  {'channel_id': 1425836445} 2021-12-15 00:01:01   \n",
       "4  65bbc5468ac0e993045f2108  {'channel_id': 1194730261} 2021-12-15 00:02:56   \n",
       "\n",
       "                                             message  \\\n",
       "0  Why does anyone comply!?\\n\\n“…the medical lite...   \n",
       "1  GOP Makes Huge Gains on Generic Congressional ...   \n",
       "2  The good Germans fled to Argentina and America...   \n",
       "3  https://childrenshealthdefense.org/defender/st...   \n",
       "4  Radical Americanism. Just shit and shame on ou...   \n",
       "\n",
       "                                          from_id  forwards  \n",
       "0  {'_': 'PeerChannel', 'channel_id': 1440361410}     467.0  \n",
       "1                                            None     190.0  \n",
       "2                                            None       3.0  \n",
       "3                                            None     229.0  \n",
       "4                                            None       3.0  "
      ]
     },
     "execution_count": 30,
     "metadata": {},
     "output_type": "execute_result"
    }
   ],
   "source": [
    "# Finally let's put our dataset to dataframe\n",
    "import pandas as pd\n",
    "\n",
    "df = pd.DataFrame(our_subset)\n",
    "df.head()"
   ]
  },
  {
   "cell_type": "markdown",
   "id": "08230793",
   "metadata": {},
   "source": [
    "### Querying large dataset\n",
    "\n",
    "For this example, let's imagine that initial, input chats of our crawler were randomly choosen, thus we do not know what kind of chats/messages we have. On top of that, let's assume our crawler worked for 10 months with 10 accounts, therefore we have one billion messages. \n",
    "\n",
    "Here we need to use indexing capabilities of MongoDB and projection, to retrieve just a subset of the data. Finally, we could use our knowledge of connected fields throughout our collections, to meaningfully reduce our messages to only relevant chats. \n",
    "\n",
    "Workflow as follows: \n",
    "    1) Search full_chat.about field for the word National\n",
    "    2) Merge current chats with the links found in them"
   ]
  },
  {
   "cell_type": "code",
   "execution_count": 32,
   "id": "f24f7580",
   "metadata": {},
   "outputs": [
    {
     "name": "stdout",
     "output_type": "stream",
     "text": [
      "{'_': 'ChatFull',\n",
      " '_id': ObjectId('65bbc1c08ac0e993045de66c'),\n",
      " 'chats': [{'_': 'Channel',\n",
      "            'access_hash': 1219837807675274486,\n",
      "            'admin_rights': None,\n",
      "            'banned_rights': None,\n",
      "            'broadcast': True,\n",
      "            'call_active': False,\n",
      "            'call_not_empty': False,\n",
      "            'creator': False,\n",
      "            'date': datetime.datetime(2017, 6, 23, 19, 1, 4),\n",
      "            'default_banned_rights': None,\n",
      "            'fake': False,\n",
      "            'forum': False,\n",
      "            'gigagroup': False,\n",
      "            'has_geo': False,\n",
      "            'has_link': False,\n",
      "            'id': 1123235006,\n",
      "            'join_request': False,\n",
      "            'join_to_send': False,\n",
      "            'left': True,\n",
      "            'megagroup': False,\n",
      "            'min': False,\n",
      "            'noforwards': False,\n",
      "            'participants_count': None,\n",
      "            'photo': {'_': 'ChatPhoto',\n",
      "                      'dc_id': 4,\n",
      "                      'has_video': False,\n",
      "                      'photo_id': 5866111426194684382,\n",
      "                      'stripped_thumb': b'\\x01\\x08\\x0820\\x05\\x14QRQ'},\n",
      "            'restricted': False,\n",
      "            'restriction_reason': [],\n",
      "            'scam': False,\n",
      "            'signatures': False,\n",
      "            'slowmode_enabled': False,\n",
      "            'title': '𝕷𝖎𝖇𝖗𝖆𝖗𝖞 𝖔𝖋 𝕬𝖌𝖆𝖗𝖙𝖍𝖆',\n",
      "            'username': 'LoAgartha',\n",
      "            'usernames': [],\n",
      "            'verified': False}],\n",
      " 'full_chat': {'_': 'ChannelFull',\n",
      "               'about': 'The landfill: @Agartha_dump\\n'\n",
      "                        '\\n'\n",
      "                        'Owner: @Werk_Verle1914\\n'\n",
      "                        'Always open for suggestions.\\n'\n",
      "                        '\\n'\n",
      "                        '\\n'\n",
      "                        'Also check: \\n'\n",
      "                        '                       @slavicvolunteersww2 \\n'\n",
      "                        '\\n'\n",
      "                        'Listed on @ChannelCollection',\n",
      "               'admins_count': None,\n",
      "               'antispam': False,\n",
      "               'available_min_id': None,\n",
      "               'available_reactions': {'_': 'ChatReactionsSome',\n",
      "                                       'reactions': [{'_': 'ReactionEmoji',\n",
      "                                                      'emoticon': '👍'},\n",
      "                                                     {'_': 'ReactionEmoji',\n",
      "                                                      'emoticon': '❤'},\n",
      "                                                     {'_': 'ReactionEmoji',\n",
      "                                                      'emoticon': '🔥'},\n",
      "                                                     {'_': 'ReactionEmoji',\n",
      "                                                      'emoticon': '😁'},\n",
      "                                                     {'_': 'ReactionEmoji',\n",
      "                                                      'emoticon': '🤔'},\n",
      "                                                     {'_': 'ReactionEmoji',\n",
      "                                                      'emoticon': '😢'}]},\n",
      "               'banned_count': None,\n",
      "               'blocked': False,\n",
      "               'bot_info': [],\n",
      "               'call': None,\n",
      "               'can_delete_channel': False,\n",
      "               'can_set_location': False,\n",
      "               'can_set_stickers': False,\n",
      "               'can_set_username': False,\n",
      "               'can_view_participants': False,\n",
      "               'can_view_stats': False,\n",
      "               'chat_photo': {'_': 'Photo',\n",
      "                              'access_hash': 7824605657784614938,\n",
      "                              'date': datetime.datetime(2021, 12, 5, 16, 35, 8),\n",
      "                              'dc_id': 4,\n",
      "                              'file_reference': b'\\x00e\\xbb\\xc1\\xbf\\xa86\\x8d'\n",
      "                                                b'\\xaa\\x19\\xdcA\\xf9\\x9bdd'\n",
      "                                                b'\\x12\\x11?x\\xbf',\n",
      "                              'has_stickers': False,\n",
      "                              'id': 5866111426194684382,\n",
      "                              'sizes': [{'_': 'PhotoSize',\n",
      "                                         'h': 160,\n",
      "                                         'size': 17018,\n",
      "                                         'type': 'a',\n",
      "                                         'w': 160},\n",
      "                                        {'_': 'PhotoSize',\n",
      "                                         'h': 320,\n",
      "                                         'size': 61547,\n",
      "                                         'type': 'b',\n",
      "                                         'w': 320},\n",
      "                                        {'_': 'PhotoSize',\n",
      "                                         'h': 640,\n",
      "                                         'size': 202993,\n",
      "                                         'type': 'c',\n",
      "                                         'w': 640},\n",
      "                                        {'_': 'PhotoStrippedSize',\n",
      "                                         'bytes': b'\\x01((f\\xd1\\xfc8\\xa9QT/B'\n",
      "                                                  b'I\\xefLR\\x10\\x0c\\x8e}'\n",
      "                                                  b'\\xfdi\\xe5\\xdb\\xf8ps\\xd0'\n",
      "                                                  b'\\xfa\\xd4nPn\\xed\\xb4\\xfb'\n",
      "                                                  b'\\x12)\\xaa\\xa1'\n",
      "                                                  b'\\x87\\xcd\\xd4\\xfav\\xa5!\\xf2'\n",
      "                                                  b'\\t \\x9fA\\xc6)\\xaa\\xdd'\n",
      "                                                  b'F\\xd3\\x9d\\xddqF\\x8ccH\\xdapq'\n",
      "                                                  b'\\xf8\\xd1Ol\\xc8\\x87=h'\n",
      "                                                  b'\\xa2\\xf6\\x15\\x87'\n",
      "                                                  b'\\x00\\x06\\xee\\x84'\n",
      "                                                  b'\\xe2\\x81\\x9d\\xcb'\n",
      "                                                  b'\\xcf8\\xe2\\x98$\\xc4j@'\n",
      "                                                  b'\\xe4\\x1a\\x01\\xf9'\n",
      "                                                  b'\\x01\\xe3\\xf3\\xc5'\n",
      "                                                  b'\\x16\\xba\\x01\\xe4'\n",
      "                                                  b'\\xb7\\x99\\xcf8\\xfc\\xa8#\\xe6'\n",
      "                                                  b'\\xce1\\x91\\x9f'\n",
      "                                                  b'\\xca\\x9a\\xa4\\x93\\xd4\\xfdM5'\n",
      "                                                  b'\\x9f*F3\\xb8\\xf5\\xa1+'\n",
      "                                                  b'\\x0cTb\\x0fA\\x83E!'\n",
      "                                                  b'8\\x07\\xf4\\xa2'\n",
      "                                                  b'\\x93\\x01\\xa4\\x85$\\x8c})'\n",
      "                                                  b'\\xc8\\x15\\xbe\\xe9'\n",
      "                                                  b'\\x0b\\xe9\\xebE\\x15M\\xd8Hsgf:'\n",
      "                                                  b'\\x9f\\xa538<\\xfeTQSq\\x92D'\n",
      "                                                  b\"ce\\xcb`s\\xc8>\\x94QEY'\",\n",
      "                                         'type': 'i'}],\n",
      "                              'video_sizes': []},\n",
      "               'default_send_as': None,\n",
      "               'exported_invite': None,\n",
      "               'folder_id': None,\n",
      "               'groupcall_default_join_as': None,\n",
      "               'has_scheduled': False,\n",
      "               'hidden_prehistory': False,\n",
      "               'id': 1123235006,\n",
      "               'kicked_count': None,\n",
      "               'linked_chat_id': None,\n",
      "               'location': None,\n",
      "               'migrated_from_chat_id': None,\n",
      "               'migrated_from_max_id': None,\n",
      "               'notify_settings': {'_': 'PeerNotifySettings',\n",
      "                                   'android_sound': None,\n",
      "                                   'ios_sound': None,\n",
      "                                   'mute_until': None,\n",
      "                                   'other_sound': None,\n",
      "                                   'show_previews': None,\n",
      "                                   'silent': None,\n",
      "                                   'stories_android_sound': None,\n",
      "                                   'stories_hide_sender': None,\n",
      "                                   'stories_ios_sound': None,\n",
      "                                   'stories_muted': None,\n",
      "                                   'stories_other_sound': None},\n",
      "               'online_count': None,\n",
      "               'participants_count': 1351,\n",
      "               'participants_hidden': False,\n",
      "               'pending_suggestions': [],\n",
      "               'pinned_msg_id': 791,\n",
      "               'pts': 1126,\n",
      "               'read_inbox_max_id': 0,\n",
      "               'read_outbox_max_id': 0,\n",
      "               'recent_requesters': [],\n",
      "               'requests_pending': None,\n",
      "               'slowmode_next_send_date': None,\n",
      "               'slowmode_seconds': None,\n",
      "               'stats_dc': None,\n",
      "               'stickerset': None,\n",
      "               'theme_emoticon': None,\n",
      "               'translations_disabled': False,\n",
      "               'ttl_period': None,\n",
      "               'unread_count': 0},\n",
      " 'users': []}\n"
     ]
    }
   ],
   "source": [
    "# Let's se structure of one chat\n",
    "\n",
    "chats_collection = db[\"chats\"]\n",
    "one_chat = chats_collection.find_one()\n",
    "pprint.pprint(one_chat)"
   ]
  },
  {
   "cell_type": "code",
   "execution_count": 38,
   "id": "21dde962",
   "metadata": {},
   "outputs": [
    {
     "name": "stdout",
     "output_type": "stream",
     "text": [
      "31\n"
     ]
    }
   ],
   "source": [
    "# Now we have two options, either to create text index on about field, or to use regular expression, which is slower\n",
    "# As we do not have too many fields for this search we are going to use regex\n",
    "# chats_collection.create_index([('about', 'text')]) # We could create index like this\n",
    "import re\n",
    "\n",
    "search_term = \"National\"\n",
    "regex_query = {\"full_chat.about\": {\"$regex\": re.compile(search_term, re.IGNORECASE)}}\n",
    "\n",
    "# Let's count\n",
    "num_chats = chats_collection.count_documents(regex_query)\n",
    "print(num_chats)"
   ]
  },
  {
   "cell_type": "code",
   "execution_count": 47,
   "id": "34c11917",
   "metadata": {},
   "outputs": [
    {
     "name": "stdout",
     "output_type": "stream",
     "text": [
      "{'_id': ObjectId('65bbc1cf8ac0e993045de9a7'), 'full_chat': {'about': 'Collection of movies created and watched during the reign of National Socialist Germany. \\n\\nHeil Hitler!'}}\n",
      "{'_id': ObjectId('65bbc2088ac0e993045df86a'), 'full_chat': {'about': 'A National Socialist Publishing Organization. \\n\\nChat:\\nt.me/InvisibleEmpireChat\\n\\nIEP is operated by Co-owners:\\nEditor-in-Chief: \\n@ZakalKampf\\nChief Design Officer:\\n@FriendlyFather\\n\\nIn association with the NSCC.\\n\\nInvisibleEmpirePublishing.com'}}\n",
      "{'_id': ObjectId('65bbc3738ac0e993045e6d81'), 'full_chat': {'about': 'Strictly a National Socialist Organization\\n\\nFor subscribers of Invisible Empire Publishing. Here you can chat with one another respectfully. Submit requests for books you would like us to do, and more.\\n\\nIEP is operated by:\\n@danielzakal\\n@foundingfather'}}\n",
      "{'_id': ObjectId('65bbc3f88ac0e993045ea05e'), 'full_chat': {'about': \"A National Socialist Publishing Organization. \\n\\nChief Editor @ZakalKampf\\nChief Artist @FriendlyFather\\n\\nIn Association with the NSCC and it's members.\"}}\n",
      "{'_id': ObjectId('65bbc4488ac0e993045ec658'), 'full_chat': {'about': 'We are a National Socialist activist organisation fighting for a free and united Nordic Nation. Visit us at nordicresistancemovement.org.'}}\n"
     ]
    }
   ],
   "source": [
    "# Yay! We have found 31 chats. Let's see the about seciton for few of them\n",
    "chats = chats_collection.find(regex_query, {\"full_chat.about\"}).limit(5)\n",
    "for chat in chats:\n",
    "    print(chat)"
   ]
  },
  {
   "cell_type": "code",
   "execution_count": 54,
   "id": "41070940",
   "metadata": {},
   "outputs": [
    {
     "name": "stdout",
     "output_type": "stream",
     "text": [
      "Collection of movies created and watched during the reign of National Socialist Germany. \n",
      "\n",
      "Heil Hitler! \n",
      " --------------------------------------------------\n",
      "A National Socialist Publishing Organization. \n",
      "\n",
      "Chat:\n",
      "t.me/InvisibleEmpireChat\n",
      "\n",
      "IEP is operated by Co-owners:\n",
      "Editor-in-Chief: \n",
      "@ZakalKampf\n",
      "Chief Design Officer:\n",
      "@FriendlyFather\n",
      "\n",
      "In association with the NSCC.\n",
      "\n",
      "InvisibleEmpirePublishing.com \n",
      " --------------------------------------------------\n",
      "Strictly a National Socialist Organization\n",
      "\n",
      "For subscribers of Invisible Empire Publishing. Here you can chat with one another respectfully. Submit requests for books you would like us to do, and more.\n",
      "\n",
      "IEP is operated by:\n",
      "@danielzakal\n",
      "@foundingfather \n",
      " --------------------------------------------------\n",
      "A National Socialist Publishing Organization. \n",
      "\n",
      "Chief Editor @ZakalKampf\n",
      "Chief Artist @FriendlyFather\n",
      "\n",
      "In Association with the NSCC and it's members. \n",
      " --------------------------------------------------\n",
      "We are a National Socialist activist organisation fighting for a free and united Nordic Nation. Visit us at nordicresistancemovement.org. \n",
      " --------------------------------------------------\n"
     ]
    }
   ],
   "source": [
    "# Or like this:\n",
    "chats = chats_collection.find(regex_query, {\"full_chat.about\"}).limit(5)\n",
    "for chat in chats:\n",
    "    print(chat.get(\"full_chat\", {}).get(\"about\"), \"\\n\", 50 * \"-\")"
   ]
  },
  {
   "cell_type": "code",
   "execution_count": 84,
   "id": "66ad1152",
   "metadata": {},
   "outputs": [
    {
     "name": "stdout",
     "output_type": "stream",
     "text": [
      "31\n",
      "[1327284437, 1635259727, 1648865616, 1569004724, 1303089864, 1304292577, 2128933650, 2121286470, 1833522557, 1916625330, 1718632902, 1718632902, 1275396146, 1354301573, 1317863577, 1232052560, 1588658373, 1406566662, 1790738811, 1406206361, 1249128539, 1471677550, 1527481557, 1334871294, 1189709213, 1409428304, 1961330547, 1977076704, 1649886663, 1744570766, 1187219939]\n"
     ]
    }
   ],
   "source": [
    "# Now, let's find netowrk of these chats!\n",
    "chats = chats_collection.find(regex_query, {\"full_chat.id\"})\n",
    "initial_chats = []\n",
    "for chat in chats:\n",
    "    initial_chats.append(chat.get(\"full_chat\", {}).get(\"id\"))\n",
    "print(len(initial_chats))\n",
    "print(initial_chats)"
   ]
  },
  {
   "cell_type": "code",
   "execution_count": 85,
   "id": "f12f1c58",
   "metadata": {},
   "outputs": [
    {
     "name": "stdout",
     "output_type": "stream",
     "text": [
      "{'_id': ObjectId('65bbc1d18ac0e993045dea5b'),\n",
      " 'chat_id': 1327284437,\n",
      " 'fwd_from': [],\n",
      " 'iteration_num': 1,\n",
      " 'linked': 1296890338,\n",
      " 'mentions_with_at': ['TheThirdReichCinema',\n",
      "                      'TheThirdReichCinema',\n",
      "                      'TheThirdReichCinema',\n",
      "                      'TheThirdReichCinema',\n",
      "                      'TheThirdReichCinema',\n",
      "                      'TheThirdReichCinema',\n",
      "                      'TheThirdReichCinema',\n",
      "                      'TheThirdReichCinema',\n",
      "                      'TheThirdReichCinema',\n",
      "                      'TheThirdReichCinema',\n",
      "                      'TheThirdReichCinema',\n",
      "                      'TheThirdReichCinema',\n",
      "                      'TheThirdReichCinema',\n",
      "                      'TheThirdReichCinema',\n",
      "                      'TheThirdReichCinema',\n",
      "                      'TheThirdReichCinema',\n",
      "                      'TheThirdReichCinema',\n",
      "                      'TheThirdReichCinema',\n",
      "                      'TheThirdReichCinema',\n",
      "                      'TheThirdReichCinema'],\n",
      " 'mentions_with_tdotme': []}\n"
     ]
    }
   ],
   "source": [
    "network_collection = db[\"network\"]\n",
    "query = {\"chat_id\": {\"$in\": initial_chats}}\n",
    "one = network_collection.find_one(query)\n",
    "\n",
    "pprint.pprint(one)"
   ]
  },
  {
   "cell_type": "code",
   "execution_count": 86,
   "id": "6968c325",
   "metadata": {},
   "outputs": [
    {
     "name": "stdout",
     "output_type": "stream",
     "text": [
      "32877\n",
      "4917\n"
     ]
    }
   ],
   "source": [
    "cursor = network_collection.find(query)\n",
    "\n",
    "all_chats = []\n",
    "for net in cursor:\n",
    "    all_chats.extend(net[\"fwd_from\"])\n",
    "    all_chats.extend(net[\"mentions_with_at\"])\n",
    "    all_chats.extend(net[\"mentions_with_tdotme\"])\n",
    "    all_chats.append(net[\"linked\"])\n",
    "print(len(all_chats))\n",
    "print(len(list(set(all_chats))))"
   ]
  },
  {
   "cell_type": "code",
   "execution_count": 87,
   "id": "29cc51f5",
   "metadata": {},
   "outputs": [
    {
     "name": "stdout",
     "output_type": "stream",
     "text": [
      "32908\n",
      "4925\n"
     ]
    }
   ],
   "source": [
    "# So, we found 4917 links to other chats in our 31 chats\n",
    "# Let's merge two of our lists\n",
    "\n",
    "all_chats.extend(initial_chats)\n",
    "print(len(all_chats))\n",
    "all_chats = list(set(all_chats))\n",
    "print(len(all_chats))"
   ]
  },
  {
   "cell_type": "code",
   "execution_count": 83,
   "id": "796aaa02",
   "metadata": {},
   "outputs": [
    {
     "name": "stdout",
     "output_type": "stream",
     "text": [
      "1054541\n"
     ]
    }
   ],
   "source": [
    "# Now we see that 8 of our initial chats were not mentioned/referred to inside of 31 initial chats\n",
    "# Let's get our messages\n",
    "query = {\"peer_id.channel_id\": {\"$in\": all_chats}}\n",
    "\n",
    "num_docs = messages_collection.count_documents(query)\n",
    "print(num_docs)"
   ]
  },
  {
   "cell_type": "markdown",
   "id": "b9b296e7",
   "metadata": {},
   "source": [
    "We got one million documents! \n",
    "\n",
    "Now we cannot be sure that all of these messages belong to the desired channels, thus we can do some further filtering, or not. \n",
    "\n",
    "It is imporant to note that some of the input chats (2 or 3) that initiated this crawling session, had \"Nazi\"/\"Right wing\" ideas, thus this explains why we got this many messages. It is hard to tell how many messages we would get if we would fetch randomly, or if we would have 1 billion of randomly fetched messages (randomly as without any consideration of the input chat relations). "
   ]
  }
 ],
 "metadata": {
  "kernelspec": {
   "display_name": "Python 3 (ipykernel)",
   "language": "python",
   "name": "python3"
  },
  "language_info": {
   "codemirror_mode": {
    "name": "ipython",
    "version": 3
   },
   "file_extension": ".py",
   "mimetype": "text/x-python",
   "name": "python",
   "nbconvert_exporter": "python",
   "pygments_lexer": "ipython3",
   "version": "3.12.0"
  }
 },
 "nbformat": 4,
 "nbformat_minor": 5
}
